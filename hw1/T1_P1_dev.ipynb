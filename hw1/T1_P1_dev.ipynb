{
 "cells": [
  {
   "cell_type": "code",
   "execution_count": 23,
   "metadata": {},
   "outputs": [],
   "source": [
    "data = [(0., 0., 0.),\n",
    "        (0., 0.5, 0.),\n",
    "        (0., 1., 0.),\n",
    "        (0.5, 0., 0.5),\n",
    "        (0.5, 0.5, 0.5),\n",
    "        (0.5, 1., 0.5),\n",
    "        (1., 0., 1.),\n",
    "        (1., 0.5, 1.),\n",
    "        (1., 1., 1.)]\n",
    "\n",
    "\n",
    "W_test1 = 3*np.array([[1., 0.], [0., 1.]])\n",
    "W_test2 = 3*np.array([[0.1, 0.], [0., 1.]])\n",
    "W_test3 = 3*np.array([[1., 0.], [0., 0.1]])\n",
    "\n",
    "\n"
   ]
  },
  {
   "cell_type": "code",
   "execution_count": 24,
   "metadata": {},
   "outputs": [],
   "source": [
    "def compute_loss(W):\n",
    "    ## TO DO\n",
    "    loss = 0\n",
    "    N=np.shape(data)[0]\n",
    "    for i in range(N):\n",
    "        dlossup=0\n",
    "        dlossdown=0\n",
    "        for j in range(N):\n",
    "            if(j !=i ):\n",
    "                dlossup+=np.exp(-((data[j][0]-data[i][0])**2*W[0][0]+2*(data[j][0]-data[i][0])*(data[j][1]-data[i][1])*W[0][1]+(data[j][1]-data[i][1])**2*W[1][1]))*(data[j][2]-data[i][2])\n",
    "                dlossdown+=np.exp(-((data[j][0]-data[i][0])**2*W[0][0]+2*(data[j][0]-data[i][0])*(data[j][1]-data[i][1])*W[0][1]+(data[j][1]-data[i][1])**2*W[1][1]))\n",
    "        loss+=(dlossup/dlossdown)**2\n",
    "    return loss\n",
    "\n",
    "\n"
   ]
  },
  {
   "cell_type": "code",
   "execution_count": 25,
   "metadata": {},
   "outputs": [
    {
     "name": "stdout",
     "output_type": "stream",
     "text": [
      "0.338216157300871\n",
      "2.22638231228581\n",
      "0.024847637804324425\n"
     ]
    }
   ],
   "source": [
    "print(compute_loss(W1))\n",
    "print(compute_loss(W2))\n",
    "print(compute_loss(W3))"
   ]
  },
  {
   "cell_type": "code",
   "execution_count": 26,
   "metadata": {},
   "outputs": [
    {
     "name": "stdout",
     "output_type": "stream",
     "text": [
      "Your test case results are :  Pass Pass Pass\n"
     ]
    }
   ],
   "source": [
    "testloss1 = 0.5979878781744292\n",
    "testloss2 = 2.059976079470737\n",
    "testloss3 = 0.36754440076084405\n",
    "\n",
    "case1_checker = np.abs(testloss1 - compute_loss(W_test1)) < 0.001\n",
    "if case1_checker:\n",
    "    case1_checker = \"Pass\"\n",
    "else:\n",
    "    case1_checker = \"Fail\"\n",
    "case2_checker = np.abs(testloss2 - compute_loss(W_test2)) < 0.001\n",
    "if case2_checker:\n",
    "    case2_checker = \"Pass\"\n",
    "else:\n",
    "    case2_checker = \"Fail\"\n",
    "case3_checker = np.abs(testloss3 - compute_loss(W_test3)) < 0.01\n",
    "if case3_checker:\n",
    "    case3_checker = \"Pass\"\n",
    "else:\n",
    "    case3_checker = \"Fail\"\n",
    "\n",
    "print(\"Your test case results are : \", case1_checker, case2_checker, case3_checker)\n"
   ]
  },
  {
   "cell_type": "code",
   "execution_count": null,
   "metadata": {},
   "outputs": [],
   "source": []
  }
 ],
 "metadata": {
  "kernelspec": {
   "display_name": "Python 3",
   "language": "python",
   "name": "python3"
  },
  "language_info": {
   "codemirror_mode": {
    "name": "ipython",
    "version": 3
   },
   "file_extension": ".py",
   "mimetype": "text/x-python",
   "name": "python",
   "nbconvert_exporter": "python",
   "pygments_lexer": "ipython3",
   "version": "3.8.3"
  }
 },
 "nbformat": 4,
 "nbformat_minor": 4
}
